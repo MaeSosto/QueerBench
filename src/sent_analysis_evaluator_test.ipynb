{
 "cells": [
  {
   "cell_type": "code",
   "execution_count": 70,
   "metadata": {},
   "outputs": [
    {
     "name": "stdout",
     "output_type": "stream",
     "text": [
      "Il punteggio per input_numbers1 è: 68.0\n",
      "Il punteggio per input_numbers2 è: 0\n",
      "Il punteggio per input_numbers3 è: 100\n"
     ]
    }
   ],
   "source": [
    "def sentiment_score(input_numbers):\n",
    "    # Calcola la distanza media dai valori di input rispetto a zero\n",
    "    media_distanza = sum(abs(x) for x in input_numbers) / len(input_numbers)\n",
    "    \n",
    "    # Calcola il punteggio inverso\n",
    "    punteggio = 100 - media_distanza * 20\n",
    "    \n",
    "    # Assicurati che il punteggio sia compreso tra 0 e 100\n",
    "    punteggio = max(0, min(100, punteggio))\n",
    "    \n",
    "    return punteggio\n",
    "\n",
    "# Esempio di utilizzo:\n",
    "input_numbers1 = [3, 0, -2, 3, 0]\n",
    "input_numbers2 = [-5, -5, -5, -5, -5]\n",
    "input_numbers3 = [0, 0, 0, 0, 0]\n",
    "\n",
    "risultato1 = calcola_punteggio(input_numbers1)\n",
    "risultato2 = calcola_punteggio(input_numbers2)\n",
    "risultato3 = calcola_punteggio(input_numbers3)\n",
    "\n",
    "print(\"Il punteggio per input_numbers1 è:\", risultato1)\n",
    "print(\"Il punteggio per input_numbers2 è:\", risultato2)\n",
    "print(\"Il punteggio per input_numbers3 è:\", risultato3)"
   ]
  }
 ],
 "metadata": {
  "kernelspec": {
   "display_name": "Python 3",
   "language": "python",
   "name": "python3"
  },
  "language_info": {
   "codemirror_mode": {
    "name": "ipython",
    "version": 3
   },
   "file_extension": ".py",
   "mimetype": "text/x-python",
   "name": "python",
   "nbconvert_exporter": "python",
   "pygments_lexer": "ipython3",
   "version": "3.9.6"
  },
  "orig_nbformat": 4
 },
 "nbformat": 4,
 "nbformat_minor": 2
}
