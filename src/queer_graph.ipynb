{
 "cells": [
  {
   "cell_type": "markdown",
   "metadata": {},
   "source": [
    "## Imports"
   ]
  },
  {
   "cell_type": "code",
   "execution_count": 76,
   "metadata": {},
   "outputs": [],
   "source": [
    "import torch\n",
    "from transformers import BertTokenizer, BertModel, BertForMaskedLM, AutoModelForCausalLM , AutoTokenizer, pipeline, RobertaTokenizer, RobertaForMaskedLM, AlbertTokenizer, AlbertModel, AlbertForMaskedLM\n",
    "import logging\n",
    "import numpy as np\n",
    "import matplotlib.pyplot as plt\n",
    "import pandas as pd\n",
    "import re\n",
    "from tqdm import tqdm\n",
    "import unidecode\n",
    "from time import sleep\n",
    "import json\n",
    "import json\n",
    "import statistics \n",
    "logging.basicConfig(level=logging.INFO)# OPTIONAL\n",
    "import numpy as np; np.random.seed(42)\n",
    "import matplotlib.pyplot as plt\n",
    "from matplotlib.transforms import Affine2D"
   ]
  },
  {
   "cell_type": "markdown",
   "metadata": {},
   "source": [
    "## MAC Settings"
   ]
  },
  {
   "cell_type": "code",
   "execution_count": 77,
   "metadata": {},
   "outputs": [
    {
     "name": "stdout",
     "output_type": "stream",
     "text": [
      "PyTorch version: 1.13.1\n",
      "Using device: mps\n"
     ]
    }
   ],
   "source": [
    "print(f\"PyTorch version: {torch.__version__}\")\n",
    "# Set the device      \n",
    "device = \"mps\" if torch.backends.mps.is_available() else torch.device(\"cuda\") if torch.cuda.is_available() else torch.device('cpu')\n",
    "print(f\"Using device: {device}\")"
   ]
  },
  {
   "cell_type": "markdown",
   "metadata": {},
   "source": [
    "## Definitions"
   ]
  },
  {
   "cell_type": "code",
   "execution_count": 78,
   "metadata": {},
   "outputs": [],
   "source": [
    "#TEMPLATES\n",
    "EVALUATION_PATH = '../data/evaluation/'\n",
    "RESULTS_PATH = '../data/results/'\n",
    "ALBERT_BASE_TEMPLATE_1 = 'ALBERTbase[1]'\n",
    "ALBERT_BASE_TEMPLATE_5 = 'ALBERTbase[5]'\n",
    "ALBERT_LARGE_TEMPLATE_1 = 'ALBERTlarge[1]'\n",
    "ALBERT_LARGE_TEMPLATE_5 = 'ALBERTlarge[1]'\n",
    "BERT_BASE_TEMPLATE_1 = 'BERTbase[1]'\n",
    "BERT_BASE_TEMPLATE_5 = 'BERTbase[5]'\n",
    "BERT_LARGE_TEMPLATE_1 = 'BERTlarge[1]'\n",
    "BERT_LARGE_TEMPLATE_5 = 'BERTlarge[5]'\n",
    "ROBERTA_BASE_TEMPLATE_1 = 'RoBERTabase[1]'\n",
    "ROBERTA_BASE_TEMPLATE_5 = 'RoBERTabase[5]'\n",
    "ROBERTA_LARGE_TEMPLATE_1 = 'RoBERTalarge[1]'\n",
    "ROBERTA_LARGE_TEMPLATE_5 = 'RoBERTalarge[5]'\n",
    "BERTWEET_BASE_TEMPLATE_1 = 'BERTweetbase[1]'\n",
    "BERTWEET_BASE_TEMPLATE_5 = 'BERTweetbase[5]'\n",
    "BERTWEET_LARGE_TEMPLATE_1 = 'BERTweetlarge[1]'\n",
    "BERTWEET_LARGE_TEMPLATE_5 = 'BERTweetlarge[5]'\n",
    "\n",
    "MODELS =[ALBERT_BASE_TEMPLATE_1, ALBERT_BASE_TEMPLATE_5, ALBERT_LARGE_TEMPLATE_1, ALBERT_LARGE_TEMPLATE_5, \n",
    "         BERT_BASE_TEMPLATE_1, BERT_BASE_TEMPLATE_5, BERT_LARGE_TEMPLATE_1, BERT_LARGE_TEMPLATE_5,\n",
    "         ROBERTA_BASE_TEMPLATE_1, ROBERTA_BASE_TEMPLATE_5, ROBERTA_LARGE_TEMPLATE_1, ROBERTA_LARGE_TEMPLATE_5,\n",
    "         BERTWEET_BASE_TEMPLATE_1, BERTWEET_BASE_TEMPLATE_5, BERTWEET_LARGE_TEMPLATE_1, BERTWEET_LARGE_TEMPLATE_5]\n",
    "\n",
    "MODELS_NAMES = ['ALBERTbase[1]','ALBERTbase[5]','ALBERTlarge[1]','ALBERTlarge[5]',\n",
    "                'BERTbase[1]','BERTbase[5]','BERTlarge[1]','BERTlarge[5]', \n",
    "                'RoBERTabase[1]','RoBERTabase[5]','RoBERTalarge[1]','RoBERTalarge[5]',\n",
    "                'BERTweetbase[1]','BERTweetbase[5]','BERTweetlarge[1]','BERTweetlarge[5]']\n",
    "#KEY\n",
    "QUEERNESS = 'queerness'\n",
    "PRONOUN = 'pronoun'\n",
    "TYPE = 'type'\n",
    "BINARY = 'binary'\n",
    "NEUTRAL = 'neutral'\n",
    "NEO = 'neo'\n",
    "SENT = 'sentiment_analysis'\n",
    "QUEER = 'queer'\n",
    "IDENTITY = 'identity'\n",
    "OTHER = 'other'\n",
    "ORIENTATION = 'orientation'\n",
    "HURTLEX = 'hurtlex'\n",
    "PERSPECTIVE = 'perspective'\n",
    "\n",
    "perspective_cat = ['Toxicity', 'Identity attack', 'insult', 'Profanity', 'Threat']\n",
    "hurtlex_cat = ['Animals', 'Crime and immoral behavior', 'Derogatory words', 'Female genitalia', 'Male genitalia', 'Homosexuality', 'Potential negative connotations', 'Professions and occupations', 'Prostitution', 'Social and economic disadvantage']\n",
    "hurtlex_cat_names = ['an', 're', 'cds', 'asf', 'asm', 'om', 'qas', 'pa', 'pr', 'is']"
   ]
  },
  {
   "cell_type": "markdown",
   "metadata": {},
   "source": [
    "### Utils"
   ]
  },
  {
   "cell_type": "code",
   "execution_count": 79,
   "metadata": {},
   "outputs": [],
   "source": [
    "# def get_model_name(model):\n",
    "#     if model == ALBERT_BASE_TEMPLATE_1:\n",
    "#         return 'ALBERT base [1]'\n",
    "#     elif model == ALBERT_BASE_TEMPLATE_5:\n",
    "#         return 'ALBERT base [5]'\n",
    "#     elif model == ALBERT_LARGE_TEMPLATE_1:\n",
    "#         return 'ALBERT large [1]'\n",
    "#     elif model == ALBERT_LARGE_TEMPLATE_5:\n",
    "#         return 'ALBERT large [5]'\n",
    "#     elif model == BERT_BASE_TEMPLATE_1:\n",
    "#         return 'BERT base [1]'\n",
    "#     elif model == BERT_BASE_TEMPLATE_5:\n",
    "#         return 'BERT base [5]'\n",
    "#     elif model == BERT_LARGE_TEMPLATE_1:\n",
    "#         return 'BERT large [1]'\n",
    "#     elif model == BERT_LARGE_TEMPLATE_5:\n",
    "#         return 'BERT base [5]'\n",
    "#     elif model == ROBERTA_BASE_TEMPLATE_1:\n",
    "#         return 'RoBERTa base [1]'\n",
    "#     elif model == ROBERTA_BASE_TEMPLATE_5:\n",
    "#         return 'RoBERTa base [5]'\n",
    "#     elif model == ROBERTA_LARGE_TEMPLATE_1:\n",
    "#         return 'RoBERTa large [1]'\n",
    "#     elif model == ROBERTA_LARGE_TEMPLATE_5:\n",
    "#         return 'RoBERTa large [5]'\n",
    "#     elif model == BERTWEET_BASE_TEMPLATE_1:\n",
    "#         return 'BERTweet base [1]'\n",
    "#     elif model == BERTWEET_BASE_TEMPLATE_5:\n",
    "#         return 'BERTweet base [5]'\n",
    "#     elif model == BERT_LARGE_TEMPLATE_1:\n",
    "#         return 'BERTweet large [1]'\n",
    "#     elif model == BERT_LARGE_TEMPLATE_5:\n",
    "#         return 'BERTweet large [5]'"
   ]
  },
  {
   "cell_type": "markdown",
   "metadata": {},
   "source": [
    "# Graph"
   ]
  },
  {
   "cell_type": "code",
   "execution_count": 80,
   "metadata": {},
   "outputs": [],
   "source": [
    "def error_bar(models):\n",
    "    x = []\n",
    "    for m in models:\n",
    "        csv = pd.read_csv(RESULTS_PATH+m+'_afinn.csv', sep=\";\"''', dtype={'template': 'category','queerness': 'category', 'name': 'category', 'type': 'category', 'prediction': 'category',}''')\n",
    "        x.append(m)\n",
    "        print(csv.loc['Neo']['Score'])\n",
    "        print(csv.loc['Neutral']['Score'])\n",
    "        print(csv.loc['Binary']['Score'])\n",
    "\n",
    "    x = list(\"ABC\")\n",
    "    y1_neo, y2_neutral, y3_binary= [0.5, 1.2, 0.7], [0.7, 1.5, 2], [1.7, 0.5, 2]\n",
    "    yerr1_neo, yerr2_neutral, yerr3_binary = np.random.rand(3, len(x))*4+0.3\n",
    "\n",
    "    fig, ax = plt.subplots()\n",
    "\n",
    "    trans1 = Affine2D().translate(-0.1, 0.0) + ax.transData\n",
    "    trans2 = Affine2D().translate(+0.1, 0.0) + ax.transData\n",
    "    trans3 = Affine2D().translate(+0.2, 0.0) + ax.transData\n",
    "    er1 = ax.errorbar(x, y1_neo, yerr=yerr1_neo, marker=\"o\", linestyle=\"none\", transform=trans1)\n",
    "    er2 = ax.errorbar(x, y2_neutral, yerr=yerr2_neutral, marker=\"o\", linestyle=\"none\", transform=trans2)\n",
    "    er3 = ax.errorbar(x, y3_binary, yerr=yerr3_binary, marker=\"o\", linestyle=\"none\", transform=trans3)\n",
    "    plt.figure(facecolor='white')\n",
    "    plt.show()"
   ]
  },
  {
   "cell_type": "code",
   "execution_count": 81,
   "metadata": {},
   "outputs": [
    {
     "ename": "KeyError",
     "evalue": "'Neutral'",
     "output_type": "error",
     "traceback": [
      "\u001b[0;31m---------------------------------------------------------------------------\u001b[0m",
      "\u001b[0;31mKeyError\u001b[0m                                  Traceback (most recent call last)",
      "\u001b[1;32m/Users/mae/Documents/GitHub/QueerBench/src/queer_graph.ipynb Cell 11\u001b[0m line \u001b[0;36m1\n\u001b[0;32m----> <a href='vscode-notebook-cell:/Users/mae/Documents/GitHub/QueerBench/src/queer_graph.ipynb#X11sZmlsZQ%3D%3D?line=0'>1</a>\u001b[0m error_bar([BERT_BASE_TEMPLATE_1, BERT_BASE_TEMPLATE_5])\n",
      "\u001b[1;32m/Users/mae/Documents/GitHub/QueerBench/src/queer_graph.ipynb Cell 11\u001b[0m line \u001b[0;36m7\n\u001b[1;32m      <a href='vscode-notebook-cell:/Users/mae/Documents/GitHub/QueerBench/src/queer_graph.ipynb#X11sZmlsZQ%3D%3D?line=4'>5</a>\u001b[0m     x\u001b[39m.\u001b[39mappend(m)\n\u001b[1;32m      <a href='vscode-notebook-cell:/Users/mae/Documents/GitHub/QueerBench/src/queer_graph.ipynb#X11sZmlsZQ%3D%3D?line=5'>6</a>\u001b[0m     \u001b[39m#print(csv.loc['Neo']['Score'])\u001b[39;00m\n\u001b[0;32m----> <a href='vscode-notebook-cell:/Users/mae/Documents/GitHub/QueerBench/src/queer_graph.ipynb#X11sZmlsZQ%3D%3D?line=6'>7</a>\u001b[0m     \u001b[39mprint\u001b[39m(csv\u001b[39m.\u001b[39;49mloc[\u001b[39m'\u001b[39;49m\u001b[39mNeutral\u001b[39;49m\u001b[39m'\u001b[39;49m][\u001b[39m'\u001b[39m\u001b[39mScore\u001b[39m\u001b[39m'\u001b[39m])\n\u001b[1;32m      <a href='vscode-notebook-cell:/Users/mae/Documents/GitHub/QueerBench/src/queer_graph.ipynb#X11sZmlsZQ%3D%3D?line=7'>8</a>\u001b[0m     \u001b[39mprint\u001b[39m(csv\u001b[39m.\u001b[39mloc[\u001b[39m'\u001b[39m\u001b[39mBinary\u001b[39m\u001b[39m'\u001b[39m][\u001b[39m'\u001b[39m\u001b[39mScore\u001b[39m\u001b[39m'\u001b[39m])\n\u001b[1;32m     <a href='vscode-notebook-cell:/Users/mae/Documents/GitHub/QueerBench/src/queer_graph.ipynb#X11sZmlsZQ%3D%3D?line=9'>10</a>\u001b[0m x \u001b[39m=\u001b[39m \u001b[39mlist\u001b[39m(\u001b[39m\"\u001b[39m\u001b[39mABC\u001b[39m\u001b[39m\"\u001b[39m)\n",
      "File \u001b[0;32m~/Library/Python/3.9/lib/python/site-packages/pandas/core/indexing.py:931\u001b[0m, in \u001b[0;36m_LocationIndexer.__getitem__\u001b[0;34m(self, key)\u001b[0m\n\u001b[1;32m    928\u001b[0m axis \u001b[39m=\u001b[39m \u001b[39mself\u001b[39m\u001b[39m.\u001b[39maxis \u001b[39mor\u001b[39;00m \u001b[39m0\u001b[39m\n\u001b[1;32m    930\u001b[0m maybe_callable \u001b[39m=\u001b[39m com\u001b[39m.\u001b[39mapply_if_callable(key, \u001b[39mself\u001b[39m\u001b[39m.\u001b[39mobj)\n\u001b[0;32m--> 931\u001b[0m \u001b[39mreturn\u001b[39;00m \u001b[39mself\u001b[39;49m\u001b[39m.\u001b[39;49m_getitem_axis(maybe_callable, axis\u001b[39m=\u001b[39;49maxis)\n",
      "File \u001b[0;32m~/Library/Python/3.9/lib/python/site-packages/pandas/core/indexing.py:1164\u001b[0m, in \u001b[0;36m_LocIndexer._getitem_axis\u001b[0;34m(self, key, axis)\u001b[0m\n\u001b[1;32m   1162\u001b[0m \u001b[39m# fall thru to straight lookup\u001b[39;00m\n\u001b[1;32m   1163\u001b[0m \u001b[39mself\u001b[39m\u001b[39m.\u001b[39m_validate_key(key, axis)\n\u001b[0;32m-> 1164\u001b[0m \u001b[39mreturn\u001b[39;00m \u001b[39mself\u001b[39;49m\u001b[39m.\u001b[39;49m_get_label(key, axis\u001b[39m=\u001b[39;49maxis)\n",
      "File \u001b[0;32m~/Library/Python/3.9/lib/python/site-packages/pandas/core/indexing.py:1113\u001b[0m, in \u001b[0;36m_LocIndexer._get_label\u001b[0;34m(self, label, axis)\u001b[0m\n\u001b[1;32m   1111\u001b[0m \u001b[39mdef\u001b[39;00m \u001b[39m_get_label\u001b[39m(\u001b[39mself\u001b[39m, label, axis: \u001b[39mint\u001b[39m):\n\u001b[1;32m   1112\u001b[0m     \u001b[39m# GH#5667 this will fail if the label is not present in the axis.\u001b[39;00m\n\u001b[0;32m-> 1113\u001b[0m     \u001b[39mreturn\u001b[39;00m \u001b[39mself\u001b[39;49m\u001b[39m.\u001b[39;49mobj\u001b[39m.\u001b[39;49mxs(label, axis\u001b[39m=\u001b[39;49maxis)\n",
      "File \u001b[0;32m~/Library/Python/3.9/lib/python/site-packages/pandas/core/generic.py:3776\u001b[0m, in \u001b[0;36mNDFrame.xs\u001b[0;34m(self, key, axis, level, drop_level)\u001b[0m\n\u001b[1;32m   3774\u001b[0m         \u001b[39mraise\u001b[39;00m \u001b[39mTypeError\u001b[39;00m(\u001b[39mf\u001b[39m\u001b[39m\"\u001b[39m\u001b[39mExpected label or tuple of labels, got \u001b[39m\u001b[39m{\u001b[39;00mkey\u001b[39m}\u001b[39;00m\u001b[39m\"\u001b[39m) \u001b[39mfrom\u001b[39;00m \u001b[39me\u001b[39;00m\n\u001b[1;32m   3775\u001b[0m \u001b[39melse\u001b[39;00m:\n\u001b[0;32m-> 3776\u001b[0m     loc \u001b[39m=\u001b[39m index\u001b[39m.\u001b[39;49mget_loc(key)\n\u001b[1;32m   3778\u001b[0m     \u001b[39mif\u001b[39;00m \u001b[39misinstance\u001b[39m(loc, np\u001b[39m.\u001b[39mndarray):\n\u001b[1;32m   3779\u001b[0m         \u001b[39mif\u001b[39;00m loc\u001b[39m.\u001b[39mdtype \u001b[39m==\u001b[39m np\u001b[39m.\u001b[39mbool_:\n",
      "File \u001b[0;32m~/Library/Python/3.9/lib/python/site-packages/pandas/core/indexes/range.py:388\u001b[0m, in \u001b[0;36mRangeIndex.get_loc\u001b[0;34m(self, key, method, tolerance)\u001b[0m\n\u001b[1;32m    386\u001b[0m         \u001b[39mexcept\u001b[39;00m \u001b[39mValueError\u001b[39;00m \u001b[39mas\u001b[39;00m err:\n\u001b[1;32m    387\u001b[0m             \u001b[39mraise\u001b[39;00m \u001b[39mKeyError\u001b[39;00m(key) \u001b[39mfrom\u001b[39;00m \u001b[39merr\u001b[39;00m\n\u001b[0;32m--> 388\u001b[0m     \u001b[39mraise\u001b[39;00m \u001b[39mKeyError\u001b[39;00m(key)\n\u001b[1;32m    389\u001b[0m \u001b[39mreturn\u001b[39;00m \u001b[39msuper\u001b[39m()\u001b[39m.\u001b[39mget_loc(key, method\u001b[39m=\u001b[39mmethod, tolerance\u001b[39m=\u001b[39mtolerance)\n",
      "\u001b[0;31mKeyError\u001b[0m: 'Neutral'"
     ]
    }
   ],
   "source": [
    "error_bar([BERT_BASE_TEMPLATE_1, BERT_BASE_TEMPLATE_5])"
   ]
  }
 ],
 "metadata": {
  "kernelspec": {
   "display_name": "Python 3",
   "language": "python",
   "name": "python3"
  },
  "language_info": {
   "codemirror_mode": {
    "name": "ipython",
    "version": 3
   },
   "file_extension": ".py",
   "mimetype": "text/x-python",
   "name": "python",
   "nbconvert_exporter": "python",
   "pygments_lexer": "ipython3",
   "version": "3.9.6"
  },
  "orig_nbformat": 4
 },
 "nbformat": 4,
 "nbformat_minor": 2
}
